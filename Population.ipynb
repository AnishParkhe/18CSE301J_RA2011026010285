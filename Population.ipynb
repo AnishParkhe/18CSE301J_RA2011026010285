{
  "nbformat": 4,
  "nbformat_minor": 0,
  "metadata": {
    "colab": {
      "provenance": []
    },
    "kernelspec": {
      "name": "python3",
      "display_name": "Python 3"
    },
    "language_info": {
      "name": "python"
    }
  },
  "cells": [
    {
      "cell_type": "code",
      "execution_count": 1,
      "metadata": {
        "id": "PGU4W7fFEsaD"
      },
      "outputs": [],
      "source": [
        "import pandas as pd\n",
        "import numpy as np\n",
        "import matplotlib.pyplot as plt\n",
        "import seaborn as sns"
      ]
    },
    {
      "cell_type": "code",
      "source": [
        "df = pd.read_csv('data.csv')\n",
        "df.head()"
      ],
      "metadata": {
        "colab": {
          "base_uri": "https://localhost:8080/",
          "height": 288
        },
        "id": "IwRN998mE6YT",
        "outputId": "114726f7-2b1d-4695-ac0e-0b757dd675b6"
      },
      "execution_count": 2,
      "outputs": [
        {
          "output_type": "execute_result",
          "data": {
            "text/plain": [
              "   place      pop1980       pop2000       pop2010       pop2022       pop2023  \\\n",
              "0    356  696828385.0  1.059634e+09  1.240614e+09  1.417173e+09  1.428628e+09   \n",
              "1    156  982372466.0  1.264099e+09  1.348191e+09  1.425887e+09  1.425671e+09   \n",
              "2    840  223140018.0  2.823986e+08  3.111828e+08  3.382899e+08  3.399966e+08   \n",
              "3    360  148177096.0  2.140724e+08  2.440162e+08  2.755013e+08  2.775341e+08   \n",
              "4    586   80624057.0  1.543699e+08  1.944545e+08  2.358249e+08  2.404857e+08   \n",
              "\n",
              "        pop2030       pop2050        country       area  landAreaKm cca2 cca3  \\\n",
              "0  1.514994e+09  1.670491e+09          India  3287590.0   2973190.0   IN  IND   \n",
              "1  1.415606e+09  1.312636e+09          China  9706961.0   9424702.9   CN  CHN   \n",
              "2  3.521623e+08  3.753920e+08  United States  9372610.0   9147420.0   US  USA   \n",
              "3  2.921501e+08  3.172252e+08      Indonesia  1904569.0   1877519.0   ID  IDN   \n",
              "4  2.740298e+08  3.678085e+08       Pakistan   881912.0    770880.0   PK  PAK   \n",
              "\n",
              "   netChange  growthRate  worldPercentage   density  densityMi  rank  \n",
              "0     0.4184      0.0081           0.1785  480.5033  1244.5036     1  \n",
              "1    -0.0113     -0.0002           0.1781  151.2696   391.7884     2  \n",
              "2     0.0581      0.0050           0.0425   37.1686    96.2666     3  \n",
              "3     0.0727      0.0074           0.0347  147.8196   382.8528     4  \n",
              "4     0.1495      0.0198           0.0300  311.9625   807.9829     5  "
            ],
            "text/html": [
              "\n",
              "  <div id=\"df-9dcc49ae-d2bb-4ecb-b488-dbed4cbd20d1\">\n",
              "    <div class=\"colab-df-container\">\n",
              "      <div>\n",
              "<style scoped>\n",
              "    .dataframe tbody tr th:only-of-type {\n",
              "        vertical-align: middle;\n",
              "    }\n",
              "\n",
              "    .dataframe tbody tr th {\n",
              "        vertical-align: top;\n",
              "    }\n",
              "\n",
              "    .dataframe thead th {\n",
              "        text-align: right;\n",
              "    }\n",
              "</style>\n",
              "<table border=\"1\" class=\"dataframe\">\n",
              "  <thead>\n",
              "    <tr style=\"text-align: right;\">\n",
              "      <th></th>\n",
              "      <th>place</th>\n",
              "      <th>pop1980</th>\n",
              "      <th>pop2000</th>\n",
              "      <th>pop2010</th>\n",
              "      <th>pop2022</th>\n",
              "      <th>pop2023</th>\n",
              "      <th>pop2030</th>\n",
              "      <th>pop2050</th>\n",
              "      <th>country</th>\n",
              "      <th>area</th>\n",
              "      <th>landAreaKm</th>\n",
              "      <th>cca2</th>\n",
              "      <th>cca3</th>\n",
              "      <th>netChange</th>\n",
              "      <th>growthRate</th>\n",
              "      <th>worldPercentage</th>\n",
              "      <th>density</th>\n",
              "      <th>densityMi</th>\n",
              "      <th>rank</th>\n",
              "    </tr>\n",
              "  </thead>\n",
              "  <tbody>\n",
              "    <tr>\n",
              "      <th>0</th>\n",
              "      <td>356</td>\n",
              "      <td>696828385.0</td>\n",
              "      <td>1.059634e+09</td>\n",
              "      <td>1.240614e+09</td>\n",
              "      <td>1.417173e+09</td>\n",
              "      <td>1.428628e+09</td>\n",
              "      <td>1.514994e+09</td>\n",
              "      <td>1.670491e+09</td>\n",
              "      <td>India</td>\n",
              "      <td>3287590.0</td>\n",
              "      <td>2973190.0</td>\n",
              "      <td>IN</td>\n",
              "      <td>IND</td>\n",
              "      <td>0.4184</td>\n",
              "      <td>0.0081</td>\n",
              "      <td>0.1785</td>\n",
              "      <td>480.5033</td>\n",
              "      <td>1244.5036</td>\n",
              "      <td>1</td>\n",
              "    </tr>\n",
              "    <tr>\n",
              "      <th>1</th>\n",
              "      <td>156</td>\n",
              "      <td>982372466.0</td>\n",
              "      <td>1.264099e+09</td>\n",
              "      <td>1.348191e+09</td>\n",
              "      <td>1.425887e+09</td>\n",
              "      <td>1.425671e+09</td>\n",
              "      <td>1.415606e+09</td>\n",
              "      <td>1.312636e+09</td>\n",
              "      <td>China</td>\n",
              "      <td>9706961.0</td>\n",
              "      <td>9424702.9</td>\n",
              "      <td>CN</td>\n",
              "      <td>CHN</td>\n",
              "      <td>-0.0113</td>\n",
              "      <td>-0.0002</td>\n",
              "      <td>0.1781</td>\n",
              "      <td>151.2696</td>\n",
              "      <td>391.7884</td>\n",
              "      <td>2</td>\n",
              "    </tr>\n",
              "    <tr>\n",
              "      <th>2</th>\n",
              "      <td>840</td>\n",
              "      <td>223140018.0</td>\n",
              "      <td>2.823986e+08</td>\n",
              "      <td>3.111828e+08</td>\n",
              "      <td>3.382899e+08</td>\n",
              "      <td>3.399966e+08</td>\n",
              "      <td>3.521623e+08</td>\n",
              "      <td>3.753920e+08</td>\n",
              "      <td>United States</td>\n",
              "      <td>9372610.0</td>\n",
              "      <td>9147420.0</td>\n",
              "      <td>US</td>\n",
              "      <td>USA</td>\n",
              "      <td>0.0581</td>\n",
              "      <td>0.0050</td>\n",
              "      <td>0.0425</td>\n",
              "      <td>37.1686</td>\n",
              "      <td>96.2666</td>\n",
              "      <td>3</td>\n",
              "    </tr>\n",
              "    <tr>\n",
              "      <th>3</th>\n",
              "      <td>360</td>\n",
              "      <td>148177096.0</td>\n",
              "      <td>2.140724e+08</td>\n",
              "      <td>2.440162e+08</td>\n",
              "      <td>2.755013e+08</td>\n",
              "      <td>2.775341e+08</td>\n",
              "      <td>2.921501e+08</td>\n",
              "      <td>3.172252e+08</td>\n",
              "      <td>Indonesia</td>\n",
              "      <td>1904569.0</td>\n",
              "      <td>1877519.0</td>\n",
              "      <td>ID</td>\n",
              "      <td>IDN</td>\n",
              "      <td>0.0727</td>\n",
              "      <td>0.0074</td>\n",
              "      <td>0.0347</td>\n",
              "      <td>147.8196</td>\n",
              "      <td>382.8528</td>\n",
              "      <td>4</td>\n",
              "    </tr>\n",
              "    <tr>\n",
              "      <th>4</th>\n",
              "      <td>586</td>\n",
              "      <td>80624057.0</td>\n",
              "      <td>1.543699e+08</td>\n",
              "      <td>1.944545e+08</td>\n",
              "      <td>2.358249e+08</td>\n",
              "      <td>2.404857e+08</td>\n",
              "      <td>2.740298e+08</td>\n",
              "      <td>3.678085e+08</td>\n",
              "      <td>Pakistan</td>\n",
              "      <td>881912.0</td>\n",
              "      <td>770880.0</td>\n",
              "      <td>PK</td>\n",
              "      <td>PAK</td>\n",
              "      <td>0.1495</td>\n",
              "      <td>0.0198</td>\n",
              "      <td>0.0300</td>\n",
              "      <td>311.9625</td>\n",
              "      <td>807.9829</td>\n",
              "      <td>5</td>\n",
              "    </tr>\n",
              "  </tbody>\n",
              "</table>\n",
              "</div>\n",
              "      <button class=\"colab-df-convert\" onclick=\"convertToInteractive('df-9dcc49ae-d2bb-4ecb-b488-dbed4cbd20d1')\"\n",
              "              title=\"Convert this dataframe to an interactive table.\"\n",
              "              style=\"display:none;\">\n",
              "        \n",
              "  <svg xmlns=\"http://www.w3.org/2000/svg\" height=\"24px\"viewBox=\"0 0 24 24\"\n",
              "       width=\"24px\">\n",
              "    <path d=\"M0 0h24v24H0V0z\" fill=\"none\"/>\n",
              "    <path d=\"M18.56 5.44l.94 2.06.94-2.06 2.06-.94-2.06-.94-.94-2.06-.94 2.06-2.06.94zm-11 1L8.5 8.5l.94-2.06 2.06-.94-2.06-.94L8.5 2.5l-.94 2.06-2.06.94zm10 10l.94 2.06.94-2.06 2.06-.94-2.06-.94-.94-2.06-.94 2.06-2.06.94z\"/><path d=\"M17.41 7.96l-1.37-1.37c-.4-.4-.92-.59-1.43-.59-.52 0-1.04.2-1.43.59L10.3 9.45l-7.72 7.72c-.78.78-.78 2.05 0 2.83L4 21.41c.39.39.9.59 1.41.59.51 0 1.02-.2 1.41-.59l7.78-7.78 2.81-2.81c.8-.78.8-2.07 0-2.86zM5.41 20L4 18.59l7.72-7.72 1.47 1.35L5.41 20z\"/>\n",
              "  </svg>\n",
              "      </button>\n",
              "      \n",
              "  <style>\n",
              "    .colab-df-container {\n",
              "      display:flex;\n",
              "      flex-wrap:wrap;\n",
              "      gap: 12px;\n",
              "    }\n",
              "\n",
              "    .colab-df-convert {\n",
              "      background-color: #E8F0FE;\n",
              "      border: none;\n",
              "      border-radius: 50%;\n",
              "      cursor: pointer;\n",
              "      display: none;\n",
              "      fill: #1967D2;\n",
              "      height: 32px;\n",
              "      padding: 0 0 0 0;\n",
              "      width: 32px;\n",
              "    }\n",
              "\n",
              "    .colab-df-convert:hover {\n",
              "      background-color: #E2EBFA;\n",
              "      box-shadow: 0px 1px 2px rgba(60, 64, 67, 0.3), 0px 1px 3px 1px rgba(60, 64, 67, 0.15);\n",
              "      fill: #174EA6;\n",
              "    }\n",
              "\n",
              "    [theme=dark] .colab-df-convert {\n",
              "      background-color: #3B4455;\n",
              "      fill: #D2E3FC;\n",
              "    }\n",
              "\n",
              "    [theme=dark] .colab-df-convert:hover {\n",
              "      background-color: #434B5C;\n",
              "      box-shadow: 0px 1px 3px 1px rgba(0, 0, 0, 0.15);\n",
              "      filter: drop-shadow(0px 1px 2px rgba(0, 0, 0, 0.3));\n",
              "      fill: #FFFFFF;\n",
              "    }\n",
              "  </style>\n",
              "\n",
              "      <script>\n",
              "        const buttonEl =\n",
              "          document.querySelector('#df-9dcc49ae-d2bb-4ecb-b488-dbed4cbd20d1 button.colab-df-convert');\n",
              "        buttonEl.style.display =\n",
              "          google.colab.kernel.accessAllowed ? 'block' : 'none';\n",
              "\n",
              "        async function convertToInteractive(key) {\n",
              "          const element = document.querySelector('#df-9dcc49ae-d2bb-4ecb-b488-dbed4cbd20d1');\n",
              "          const dataTable =\n",
              "            await google.colab.kernel.invokeFunction('convertToInteractive',\n",
              "                                                     [key], {});\n",
              "          if (!dataTable) return;\n",
              "\n",
              "          const docLinkHtml = 'Like what you see? Visit the ' +\n",
              "            '<a target=\"_blank\" href=https://colab.research.google.com/notebooks/data_table.ipynb>data table notebook</a>'\n",
              "            + ' to learn more about interactive tables.';\n",
              "          element.innerHTML = '';\n",
              "          dataTable['output_type'] = 'display_data';\n",
              "          await google.colab.output.renderOutput(dataTable, element);\n",
              "          const docLink = document.createElement('div');\n",
              "          docLink.innerHTML = docLinkHtml;\n",
              "          element.appendChild(docLink);\n",
              "        }\n",
              "      </script>\n",
              "    </div>\n",
              "  </div>\n",
              "  "
            ]
          },
          "metadata": {},
          "execution_count": 2
        }
      ]
    },
    {
      "cell_type": "code",
      "source": [
        "df1 = df.nlargest(10,'pop2023')\n",
        "df1"
      ],
      "metadata": {
        "colab": {
          "base_uri": "https://localhost:8080/",
          "height": 444
        },
        "id": "Cwa3gbY9dF09",
        "outputId": "e5d5a549-8b8e-47df-bf96-ae2742bc3496"
      },
      "execution_count": 3,
      "outputs": [
        {
          "output_type": "execute_result",
          "data": {
            "text/plain": [
              "   place      pop1980       pop2000       pop2010       pop2022       pop2023  \\\n",
              "0    356  696828385.0  1.059634e+09  1.240614e+09  1.417173e+09  1.428628e+09   \n",
              "1    156  982372466.0  1.264099e+09  1.348191e+09  1.425887e+09  1.425671e+09   \n",
              "2    840  223140018.0  2.823986e+08  3.111828e+08  3.382899e+08  3.399966e+08   \n",
              "3    360  148177096.0  2.140724e+08  2.440162e+08  2.755013e+08  2.775341e+08   \n",
              "4    586   80624057.0  1.543699e+08  1.944545e+08  2.358249e+08  2.404857e+08   \n",
              "5    566   72951439.0  1.228520e+08  1.609529e+08  2.185412e+08  2.238046e+08   \n",
              "6     76  122288383.0  1.758737e+08  1.963535e+08  2.153135e+08  2.164224e+08   \n",
              "7     50   83929765.0  1.291933e+08  1.483911e+08  1.711864e+08  1.729543e+08   \n",
              "8    643  138257420.0  1.468448e+08  1.432426e+08  1.447133e+08  1.444444e+08   \n",
              "9    484   67705186.0  9.787344e+07  1.125324e+08  1.275041e+08  1.284556e+08   \n",
              "\n",
              "        pop2030       pop2050        country        area  landAreaKm cca2  \\\n",
              "0  1.514994e+09  1.670491e+09          India   3287590.0   2973190.0   IN   \n",
              "1  1.415606e+09  1.312636e+09          China   9706961.0   9424702.9   CN   \n",
              "2  3.521623e+08  3.753920e+08  United States   9372610.0   9147420.0   US   \n",
              "3  2.921501e+08  3.172252e+08      Indonesia   1904569.0   1877519.0   ID   \n",
              "4  2.740298e+08  3.678085e+08       Pakistan    881912.0    770880.0   PK   \n",
              "5  2.625804e+08  3.774599e+08        Nigeria    923768.0    910770.0   NG   \n",
              "6  2.239090e+08  2.308857e+08         Brazil   8515767.0   8358140.0   BR   \n",
              "7  1.844241e+08  2.039049e+08     Bangladesh    147570.0    130170.0   BD   \n",
              "8  1.414327e+08  1.331330e+08         Russia  17098242.0  16376870.0   RU   \n",
              "9  1.345341e+08  1.437724e+08         Mexico   1964375.0   1943950.0   MX   \n",
              "\n",
              "  cca3  netChange  growthRate  worldPercentage    density  densityMi  rank  \n",
              "0  IND     0.4184      0.0081           0.1785   480.5033  1244.5036     1  \n",
              "1  CHN    -0.0113     -0.0002           0.1781   151.2696   391.7884     2  \n",
              "2  USA     0.0581      0.0050           0.0425    37.1686    96.2666     3  \n",
              "3  IDN     0.0727      0.0074           0.0347   147.8196   382.8528     4  \n",
              "4  PAK     0.1495      0.0198           0.0300   311.9625   807.9829     5  \n",
              "5  NGA     0.1680      0.0241           0.0280   245.7312   636.4439     6  \n",
              "6  BRA     0.0393      0.0052           0.0270    25.8936    67.0645     7  \n",
              "7  BGD     0.0557      0.0103           0.0216  1328.6803  3441.2821     8  \n",
              "8  RUS    -0.0158     -0.0019           0.0180     8.8200    22.8439     9  \n",
              "9  MEX     0.0299      0.0075           0.0160    66.0797   171.1463    10  "
            ],
            "text/html": [
              "\n",
              "  <div id=\"df-a226c2c6-0949-408e-850d-e9cb38a664b6\">\n",
              "    <div class=\"colab-df-container\">\n",
              "      <div>\n",
              "<style scoped>\n",
              "    .dataframe tbody tr th:only-of-type {\n",
              "        vertical-align: middle;\n",
              "    }\n",
              "\n",
              "    .dataframe tbody tr th {\n",
              "        vertical-align: top;\n",
              "    }\n",
              "\n",
              "    .dataframe thead th {\n",
              "        text-align: right;\n",
              "    }\n",
              "</style>\n",
              "<table border=\"1\" class=\"dataframe\">\n",
              "  <thead>\n",
              "    <tr style=\"text-align: right;\">\n",
              "      <th></th>\n",
              "      <th>place</th>\n",
              "      <th>pop1980</th>\n",
              "      <th>pop2000</th>\n",
              "      <th>pop2010</th>\n",
              "      <th>pop2022</th>\n",
              "      <th>pop2023</th>\n",
              "      <th>pop2030</th>\n",
              "      <th>pop2050</th>\n",
              "      <th>country</th>\n",
              "      <th>area</th>\n",
              "      <th>landAreaKm</th>\n",
              "      <th>cca2</th>\n",
              "      <th>cca3</th>\n",
              "      <th>netChange</th>\n",
              "      <th>growthRate</th>\n",
              "      <th>worldPercentage</th>\n",
              "      <th>density</th>\n",
              "      <th>densityMi</th>\n",
              "      <th>rank</th>\n",
              "    </tr>\n",
              "  </thead>\n",
              "  <tbody>\n",
              "    <tr>\n",
              "      <th>0</th>\n",
              "      <td>356</td>\n",
              "      <td>696828385.0</td>\n",
              "      <td>1.059634e+09</td>\n",
              "      <td>1.240614e+09</td>\n",
              "      <td>1.417173e+09</td>\n",
              "      <td>1.428628e+09</td>\n",
              "      <td>1.514994e+09</td>\n",
              "      <td>1.670491e+09</td>\n",
              "      <td>India</td>\n",
              "      <td>3287590.0</td>\n",
              "      <td>2973190.0</td>\n",
              "      <td>IN</td>\n",
              "      <td>IND</td>\n",
              "      <td>0.4184</td>\n",
              "      <td>0.0081</td>\n",
              "      <td>0.1785</td>\n",
              "      <td>480.5033</td>\n",
              "      <td>1244.5036</td>\n",
              "      <td>1</td>\n",
              "    </tr>\n",
              "    <tr>\n",
              "      <th>1</th>\n",
              "      <td>156</td>\n",
              "      <td>982372466.0</td>\n",
              "      <td>1.264099e+09</td>\n",
              "      <td>1.348191e+09</td>\n",
              "      <td>1.425887e+09</td>\n",
              "      <td>1.425671e+09</td>\n",
              "      <td>1.415606e+09</td>\n",
              "      <td>1.312636e+09</td>\n",
              "      <td>China</td>\n",
              "      <td>9706961.0</td>\n",
              "      <td>9424702.9</td>\n",
              "      <td>CN</td>\n",
              "      <td>CHN</td>\n",
              "      <td>-0.0113</td>\n",
              "      <td>-0.0002</td>\n",
              "      <td>0.1781</td>\n",
              "      <td>151.2696</td>\n",
              "      <td>391.7884</td>\n",
              "      <td>2</td>\n",
              "    </tr>\n",
              "    <tr>\n",
              "      <th>2</th>\n",
              "      <td>840</td>\n",
              "      <td>223140018.0</td>\n",
              "      <td>2.823986e+08</td>\n",
              "      <td>3.111828e+08</td>\n",
              "      <td>3.382899e+08</td>\n",
              "      <td>3.399966e+08</td>\n",
              "      <td>3.521623e+08</td>\n",
              "      <td>3.753920e+08</td>\n",
              "      <td>United States</td>\n",
              "      <td>9372610.0</td>\n",
              "      <td>9147420.0</td>\n",
              "      <td>US</td>\n",
              "      <td>USA</td>\n",
              "      <td>0.0581</td>\n",
              "      <td>0.0050</td>\n",
              "      <td>0.0425</td>\n",
              "      <td>37.1686</td>\n",
              "      <td>96.2666</td>\n",
              "      <td>3</td>\n",
              "    </tr>\n",
              "    <tr>\n",
              "      <th>3</th>\n",
              "      <td>360</td>\n",
              "      <td>148177096.0</td>\n",
              "      <td>2.140724e+08</td>\n",
              "      <td>2.440162e+08</td>\n",
              "      <td>2.755013e+08</td>\n",
              "      <td>2.775341e+08</td>\n",
              "      <td>2.921501e+08</td>\n",
              "      <td>3.172252e+08</td>\n",
              "      <td>Indonesia</td>\n",
              "      <td>1904569.0</td>\n",
              "      <td>1877519.0</td>\n",
              "      <td>ID</td>\n",
              "      <td>IDN</td>\n",
              "      <td>0.0727</td>\n",
              "      <td>0.0074</td>\n",
              "      <td>0.0347</td>\n",
              "      <td>147.8196</td>\n",
              "      <td>382.8528</td>\n",
              "      <td>4</td>\n",
              "    </tr>\n",
              "    <tr>\n",
              "      <th>4</th>\n",
              "      <td>586</td>\n",
              "      <td>80624057.0</td>\n",
              "      <td>1.543699e+08</td>\n",
              "      <td>1.944545e+08</td>\n",
              "      <td>2.358249e+08</td>\n",
              "      <td>2.404857e+08</td>\n",
              "      <td>2.740298e+08</td>\n",
              "      <td>3.678085e+08</td>\n",
              "      <td>Pakistan</td>\n",
              "      <td>881912.0</td>\n",
              "      <td>770880.0</td>\n",
              "      <td>PK</td>\n",
              "      <td>PAK</td>\n",
              "      <td>0.1495</td>\n",
              "      <td>0.0198</td>\n",
              "      <td>0.0300</td>\n",
              "      <td>311.9625</td>\n",
              "      <td>807.9829</td>\n",
              "      <td>5</td>\n",
              "    </tr>\n",
              "    <tr>\n",
              "      <th>5</th>\n",
              "      <td>566</td>\n",
              "      <td>72951439.0</td>\n",
              "      <td>1.228520e+08</td>\n",
              "      <td>1.609529e+08</td>\n",
              "      <td>2.185412e+08</td>\n",
              "      <td>2.238046e+08</td>\n",
              "      <td>2.625804e+08</td>\n",
              "      <td>3.774599e+08</td>\n",
              "      <td>Nigeria</td>\n",
              "      <td>923768.0</td>\n",
              "      <td>910770.0</td>\n",
              "      <td>NG</td>\n",
              "      <td>NGA</td>\n",
              "      <td>0.1680</td>\n",
              "      <td>0.0241</td>\n",
              "      <td>0.0280</td>\n",
              "      <td>245.7312</td>\n",
              "      <td>636.4439</td>\n",
              "      <td>6</td>\n",
              "    </tr>\n",
              "    <tr>\n",
              "      <th>6</th>\n",
              "      <td>76</td>\n",
              "      <td>122288383.0</td>\n",
              "      <td>1.758737e+08</td>\n",
              "      <td>1.963535e+08</td>\n",
              "      <td>2.153135e+08</td>\n",
              "      <td>2.164224e+08</td>\n",
              "      <td>2.239090e+08</td>\n",
              "      <td>2.308857e+08</td>\n",
              "      <td>Brazil</td>\n",
              "      <td>8515767.0</td>\n",
              "      <td>8358140.0</td>\n",
              "      <td>BR</td>\n",
              "      <td>BRA</td>\n",
              "      <td>0.0393</td>\n",
              "      <td>0.0052</td>\n",
              "      <td>0.0270</td>\n",
              "      <td>25.8936</td>\n",
              "      <td>67.0645</td>\n",
              "      <td>7</td>\n",
              "    </tr>\n",
              "    <tr>\n",
              "      <th>7</th>\n",
              "      <td>50</td>\n",
              "      <td>83929765.0</td>\n",
              "      <td>1.291933e+08</td>\n",
              "      <td>1.483911e+08</td>\n",
              "      <td>1.711864e+08</td>\n",
              "      <td>1.729543e+08</td>\n",
              "      <td>1.844241e+08</td>\n",
              "      <td>2.039049e+08</td>\n",
              "      <td>Bangladesh</td>\n",
              "      <td>147570.0</td>\n",
              "      <td>130170.0</td>\n",
              "      <td>BD</td>\n",
              "      <td>BGD</td>\n",
              "      <td>0.0557</td>\n",
              "      <td>0.0103</td>\n",
              "      <td>0.0216</td>\n",
              "      <td>1328.6803</td>\n",
              "      <td>3441.2821</td>\n",
              "      <td>8</td>\n",
              "    </tr>\n",
              "    <tr>\n",
              "      <th>8</th>\n",
              "      <td>643</td>\n",
              "      <td>138257420.0</td>\n",
              "      <td>1.468448e+08</td>\n",
              "      <td>1.432426e+08</td>\n",
              "      <td>1.447133e+08</td>\n",
              "      <td>1.444444e+08</td>\n",
              "      <td>1.414327e+08</td>\n",
              "      <td>1.331330e+08</td>\n",
              "      <td>Russia</td>\n",
              "      <td>17098242.0</td>\n",
              "      <td>16376870.0</td>\n",
              "      <td>RU</td>\n",
              "      <td>RUS</td>\n",
              "      <td>-0.0158</td>\n",
              "      <td>-0.0019</td>\n",
              "      <td>0.0180</td>\n",
              "      <td>8.8200</td>\n",
              "      <td>22.8439</td>\n",
              "      <td>9</td>\n",
              "    </tr>\n",
              "    <tr>\n",
              "      <th>9</th>\n",
              "      <td>484</td>\n",
              "      <td>67705186.0</td>\n",
              "      <td>9.787344e+07</td>\n",
              "      <td>1.125324e+08</td>\n",
              "      <td>1.275041e+08</td>\n",
              "      <td>1.284556e+08</td>\n",
              "      <td>1.345341e+08</td>\n",
              "      <td>1.437724e+08</td>\n",
              "      <td>Mexico</td>\n",
              "      <td>1964375.0</td>\n",
              "      <td>1943950.0</td>\n",
              "      <td>MX</td>\n",
              "      <td>MEX</td>\n",
              "      <td>0.0299</td>\n",
              "      <td>0.0075</td>\n",
              "      <td>0.0160</td>\n",
              "      <td>66.0797</td>\n",
              "      <td>171.1463</td>\n",
              "      <td>10</td>\n",
              "    </tr>\n",
              "  </tbody>\n",
              "</table>\n",
              "</div>\n",
              "      <button class=\"colab-df-convert\" onclick=\"convertToInteractive('df-a226c2c6-0949-408e-850d-e9cb38a664b6')\"\n",
              "              title=\"Convert this dataframe to an interactive table.\"\n",
              "              style=\"display:none;\">\n",
              "        \n",
              "  <svg xmlns=\"http://www.w3.org/2000/svg\" height=\"24px\"viewBox=\"0 0 24 24\"\n",
              "       width=\"24px\">\n",
              "    <path d=\"M0 0h24v24H0V0z\" fill=\"none\"/>\n",
              "    <path d=\"M18.56 5.44l.94 2.06.94-2.06 2.06-.94-2.06-.94-.94-2.06-.94 2.06-2.06.94zm-11 1L8.5 8.5l.94-2.06 2.06-.94-2.06-.94L8.5 2.5l-.94 2.06-2.06.94zm10 10l.94 2.06.94-2.06 2.06-.94-2.06-.94-.94-2.06-.94 2.06-2.06.94z\"/><path d=\"M17.41 7.96l-1.37-1.37c-.4-.4-.92-.59-1.43-.59-.52 0-1.04.2-1.43.59L10.3 9.45l-7.72 7.72c-.78.78-.78 2.05 0 2.83L4 21.41c.39.39.9.59 1.41.59.51 0 1.02-.2 1.41-.59l7.78-7.78 2.81-2.81c.8-.78.8-2.07 0-2.86zM5.41 20L4 18.59l7.72-7.72 1.47 1.35L5.41 20z\"/>\n",
              "  </svg>\n",
              "      </button>\n",
              "      \n",
              "  <style>\n",
              "    .colab-df-container {\n",
              "      display:flex;\n",
              "      flex-wrap:wrap;\n",
              "      gap: 12px;\n",
              "    }\n",
              "\n",
              "    .colab-df-convert {\n",
              "      background-color: #E8F0FE;\n",
              "      border: none;\n",
              "      border-radius: 50%;\n",
              "      cursor: pointer;\n",
              "      display: none;\n",
              "      fill: #1967D2;\n",
              "      height: 32px;\n",
              "      padding: 0 0 0 0;\n",
              "      width: 32px;\n",
              "    }\n",
              "\n",
              "    .colab-df-convert:hover {\n",
              "      background-color: #E2EBFA;\n",
              "      box-shadow: 0px 1px 2px rgba(60, 64, 67, 0.3), 0px 1px 3px 1px rgba(60, 64, 67, 0.15);\n",
              "      fill: #174EA6;\n",
              "    }\n",
              "\n",
              "    [theme=dark] .colab-df-convert {\n",
              "      background-color: #3B4455;\n",
              "      fill: #D2E3FC;\n",
              "    }\n",
              "\n",
              "    [theme=dark] .colab-df-convert:hover {\n",
              "      background-color: #434B5C;\n",
              "      box-shadow: 0px 1px 3px 1px rgba(0, 0, 0, 0.15);\n",
              "      filter: drop-shadow(0px 1px 2px rgba(0, 0, 0, 0.3));\n",
              "      fill: #FFFFFF;\n",
              "    }\n",
              "  </style>\n",
              "\n",
              "      <script>\n",
              "        const buttonEl =\n",
              "          document.querySelector('#df-a226c2c6-0949-408e-850d-e9cb38a664b6 button.colab-df-convert');\n",
              "        buttonEl.style.display =\n",
              "          google.colab.kernel.accessAllowed ? 'block' : 'none';\n",
              "\n",
              "        async function convertToInteractive(key) {\n",
              "          const element = document.querySelector('#df-a226c2c6-0949-408e-850d-e9cb38a664b6');\n",
              "          const dataTable =\n",
              "            await google.colab.kernel.invokeFunction('convertToInteractive',\n",
              "                                                     [key], {});\n",
              "          if (!dataTable) return;\n",
              "\n",
              "          const docLinkHtml = 'Like what you see? Visit the ' +\n",
              "            '<a target=\"_blank\" href=https://colab.research.google.com/notebooks/data_table.ipynb>data table notebook</a>'\n",
              "            + ' to learn more about interactive tables.';\n",
              "          element.innerHTML = '';\n",
              "          dataTable['output_type'] = 'display_data';\n",
              "          await google.colab.output.renderOutput(dataTable, element);\n",
              "          const docLink = document.createElement('div');\n",
              "          docLink.innerHTML = docLinkHtml;\n",
              "          element.appendChild(docLink);\n",
              "        }\n",
              "      </script>\n",
              "    </div>\n",
              "  </div>\n",
              "  "
            ]
          },
          "metadata": {},
          "execution_count": 3
        }
      ]
    },
    {
      "cell_type": "code",
      "source": [
        "sns.barplot(data=df1, x=\"country\", y=\"pop2023\").set_title('Top 10 Countries by Population')"
      ],
      "metadata": {
        "colab": {
          "base_uri": "https://localhost:8080/",
          "height": 312
        },
        "id": "pGWl1SumFLT7",
        "outputId": "97246318-ba7b-4882-bd4d-f6fa0f472367"
      },
      "execution_count": 4,
      "outputs": [
        {
          "output_type": "execute_result",
          "data": {
            "text/plain": [
              "Text(0.5, 1.0, 'Top 10 Countries by Population')"
            ]
          },
          "metadata": {},
          "execution_count": 4
        },
        {
          "output_type": "display_data",
          "data": {
            "text/plain": [
              "<Figure size 432x288 with 1 Axes>"
            ],
            "image/png": "[encoded data removed]"
          },
          "metadata": {
            "needs_background": "light"
          }
        }
      ]
    },
    {
      "cell_type": "code",
      "source": [
        "sns.scatterplot(data=df1, x=df1['pop2023'], y=df1['landAreaKm'],hue=df1['country']).set_title('Population vs Land Area')"
      ],
      "metadata": {
        "colab": {
          "base_uri": "https://localhost:8080/",
          "height": 312
        },
        "id": "vRU_l0tkF4B3",
        "outputId": "38d99983-2e6b-4a4e-ebea-500b8e323045"
      },
      "execution_count": 5,
      "outputs": [
        {
          "output_type": "execute_result",
          "data": {
            "text/plain": [
              "Text(0.5, 1.0, 'Population vs Land Area')"
            ]
          },
          "metadata": {},
          "execution_count": 5
        },
        {
          "output_type": "display_data",
          "data": {
            "text/plain": [
              "<Figure size 432x288 with 1 Axes>"
            ],
            "image/png": "[encoded data removed]"
          },
          "metadata": {
            "needs_background": "light"
          }
        }
      ]
    },
    {
      "cell_type": "code",
      "source": [
        "sns.jointplot(df['growthRate'], df['worldPercentage'], data=df, kind=\"hex\")"
      ],
      "metadata": {
        "colab": {
          "base_uri": "https://localhost:8080/",
          "height": 513
        },
        "id": "DDlBP4BbQZhh",
        "outputId": "4c63349a-1e23-4437-e338-5b20d57a8a36"
      },
      "execution_count": 6,
      "outputs": [
        {
          "output_type": "stream",
          "name": "stderr",
          "text": [
            "/usr/local/lib/python3.8/dist-packages/seaborn/_decorators.py:36: FutureWarning: Pass the following variables as keyword args: x, y. From version 0.12, the only valid positional argument will be `data`, and passing other arguments without an explicit keyword will result in an error or misinterpretation.\n",
            "  warnings.warn(\n"
          ]
        },
        {
          "output_type": "execute_result",
          "data": {
            "text/plain": [
              "<seaborn.axisgrid.JointGrid at 0x7f76e8493430>"
            ]
          },
          "metadata": {},
          "execution_count": 6
        },
        {
          "output_type": "display_data",
          "data": {
            "text/plain": [
              "<Figure size 432x432 with 3 Axes>"
            ],
            "image/png": "[encoded data removed]"
          },
          "metadata": {
            "needs_background": "light"
          }
        }
      ]
    },
    {
      "cell_type": "code",
      "source": [
        "sns.displot(data=df, x=df[\"growthRate\"], kind=\"kde\")"
      ],
      "metadata": {
        "colab": {
          "base_uri": "https://localhost:8080/",
          "height": 386
        },
        "id": "FiXcgtfEURZB",
        "outputId": "a907c7f8-c856-48a3-958f-113198e74395"
      },
      "execution_count": 7,
      "outputs": [
        {
          "output_type": "execute_result",
          "data": {
            "text/plain": [
              "<seaborn.axisgrid.FacetGrid at 0x7f76b4ea9940>"
            ]
          },
          "metadata": {},
          "execution_count": 7
        },
        {
          "output_type": "display_data",
          "data": {
            "text/plain": [
              "<Figure size 360x360 with 1 Axes>"
            ],
            "image/png": "[encoded data removed]"
          },
          "metadata": {
            "needs_background": "light"
          }
        }
      ]
    },
    {
      "cell_type": "code",
      "source": [
        "sns.violinplot(x=df[\"landAreaKm\"]).set_title('Land Area(km)')"
      ],
      "metadata": {
        "colab": {
          "base_uri": "https://localhost:8080/",
          "height": 312
        },
        "id": "6BDeD7D9VPCp",
        "outputId": "8e37df8a-9da2-4bc3-e842-a94c7482472f"
      },
      "execution_count": 8,
      "outputs": [
        {
          "output_type": "execute_result",
          "data": {
            "text/plain": [
              "Text(0.5, 1.0, 'Land Area(km)')"
            ]
          },
          "metadata": {},
          "execution_count": 8
        },
        {
          "output_type": "display_data",
          "data": {
            "text/plain": [
              "<Figure size 432x288 with 1 Axes>"
            ],
            "image/png": "[encoded data removed]"
          },
          "metadata": {
            "needs_background": "light"
          }
        }
      ]
    },
    {
      "cell_type": "code",
      "source": [
        "plt.pie(df1['pop2023'],labels=df1['country'])\n",
        "plt.title('Countries by Population')"
      ],
      "metadata": {
        "colab": {
          "base_uri": "https://localhost:8080/",
          "height": 281
        },
        "id": "-jXN7cVlYqny",
        "outputId": "57b55be1-8f04-4076-947f-2a9cc5d6a12d"
      },
      "execution_count": 9,
      "outputs": [
        {
          "output_type": "execute_result",
          "data": {
            "text/plain": [
              "Text(0.5, 1.0, 'Countries by Population')"
            ]
          },
          "metadata": {},
          "execution_count": 9
        },
        {
          "output_type": "display_data",
          "data": {
            "text/plain": [
              "<Figure size 432x288 with 1 Axes>"
            ],
            "image/png": "[encoded data removed]"
          },
          "metadata": {}
        }
      ]
    },
    {
      "cell_type": "code",
      "source": [
        "plt.pie(df1['landAreaKm'],labels=df1['country'])\n",
        "centre_circle = plt.Circle((0, 0), 0.40, fc='white')\n",
        "fig = plt.gcf()\n",
        "fig.gca().add_artist(centre_circle)\n",
        "plt.title('Contries by Land Area')"
      ],
      "metadata": {
        "colab": {
          "base_uri": "https://localhost:8080/",
          "height": 281
        },
        "id": "wwCqo3duaUDY",
        "outputId": "7ab0b8b3-eccb-49a7-9d23-cd661927cd12"
      },
      "execution_count": 10,
      "outputs": [
        {
          "output_type": "execute_result",
          "data": {
            "text/plain": [
              "Text(0.5, 1.0, 'Contries by Land Area')"
            ]
          },
          "metadata": {},
          "execution_count": 10
        },
        {
          "output_type": "display_data",
          "data": {
            "text/plain": [
              "<Figure size 432x288 with 1 Axes>"
            ],
            "image/png": "[encoded data removed]"
          },
          "metadata": {}
        }
      ]
    },
    {
      "cell_type": "code",
      "source": [],
      "metadata": {
        "id": "24A4FLJjcnUz"
      },
      "execution_count": 10,
      "outputs": []
    }
  ]
}